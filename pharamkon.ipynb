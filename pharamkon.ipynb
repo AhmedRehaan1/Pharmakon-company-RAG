{
 "cells": [
  {
   "cell_type": "code",
   "execution_count": 12,
   "id": "dadd229f",
   "metadata": {},
   "outputs": [
    {
     "data": {
      "text/plain": [
       "True"
      ]
     },
     "execution_count": 12,
     "metadata": {},
     "output_type": "execute_result"
    }
   ],
   "source": [
    "import os\n",
    "from dotenv import load_dotenv\n",
    "load_dotenv()  #load all the environment variables"
   ]
  },
  {
   "cell_type": "code",
   "execution_count": 13,
   "id": "c8dac7a9",
   "metadata": {},
   "outputs": [],
   "source": [
    "os.environ[\"OPENAI_API_KEY\"]=os.getenv(\"OPENAI_API_KEY\")"
   ]
  },
  {
   "cell_type": "code",
   "execution_count": 14,
   "id": "3d4e2786",
   "metadata": {},
   "outputs": [
    {
     "name": "stdout",
     "output_type": "stream",
     "text": [
      "page_content='Composition\n",
      "Menthol, arginine, Allantoin, caffeine, Carnitine, Glycerin, Carbomer, Triethanolamine, CMC , PVP , Monopropylene glycol , Polysorbate 20 , aloe vera, Chlorhexidine , eugenol, methyl paraben, propyl paraben, sugar, Parfum, Aqua.\n",
      "properties\n",
      "Skout Gel works with absorption effect technology. It is quick to be absorbed from the penis skin , so the desensitizing effect will not transfer to your partner. Skout Gelenables you to keep pleasurable sexual action , while delaying your semen from coming out. Skout Gel allows you to last more and more time enjoying sex. Skout Gel creates a warming sensation as vessels dilate and capillaries expand. Skout Gel provides the vigor and vitality of men. Skout Gel provides unmatched sexual desire. Skout Gel increases sexual ability for men. Skout Gel provides nourishment to improve the person’s energy level and mood , thus giving an extra pleasure. Skout Gel improves the circulation in the penile tissue as it increases blood flow to the penis. Skout Gel prolongs the duration of the sexual action. Skout Gelincreases confidence and security to enjoy sex. Skout Gel is for topical use for partners who cannot use oral alternatives.\n",
      "Indication\n",
      "1-Premature ejaculation. 2-To increase sexual potency for men. 3-To increase sexual energy and libido for men. 4-To increase activity and vitality for men.\n",
      "How to use\n",
      "Apply a suitable amount of Skout Gel on penis before intercourse , used when needed.\n",
      "package\n",
      "Tube contains 100 gm gel' metadata={'name': 'Skout Gel (Delay Ejaculation)', 'link': 'https://pharmakonegypt.org/product/skout-gel-delay-ejaculation/', 'price': 'EGP0'}\n"
     ]
    }
   ],
   "source": [
    "import json\n",
    "from langchain.schema import Document\n",
    "\n",
    "# Load JSON file\n",
    "with open(\"pharmakon_products.json\", \"r\", encoding=\"utf-8\") as f:\n",
    "    products = json.load(f)\n",
    "\n",
    "#  Convert each product description into a single Document\n",
    "# the embedding model will be for description, not for the whole product details , but we have metadata for each product\n",
    "docs = []\n",
    "for product in products:\n",
    "    docs.append(Document(\n",
    "        page_content=product[\"product_description\"],  # full description in one chunk\n",
    "        metadata={\n",
    "            \"name\": product[\"product_name\"],\n",
    "            \"link\": product[\"product_link\"],\n",
    "            \"price\": product[\"product_price\"]\n",
    "        }\n",
    "    ))\n",
    "\n",
    "#  Check first document\n",
    "print(docs[3])\n"
   ]
  },
  {
   "cell_type": "code",
   "execution_count": 15,
   "id": "01c150a0",
   "metadata": {},
   "outputs": [
    {
     "name": "stdout",
     "output_type": "stream",
     "text": [
      "Loaded existing vector database.\n",
      "Vector database created and persisted successfully!\n"
     ]
    }
   ],
   "source": [
    "from langchain.vectorstores import Chroma\n",
    "from langchain.embeddings import OpenAIEmbeddings\n",
    "\n",
    "#  Initialize the embedding model\n",
    "#  Initialize the embedding model\n",
    "embedding_model = OpenAIEmbeddings(model=\"text-embedding-3-large\")\n",
    "\n",
    "#  Create a Chroma vector store from the docs\n",
    "if not os.path.exists(\"./chroma_db\"):\n",
    "    vectordb = Chroma.from_documents(\n",
    "        documents=docs,       # your list of Document objects\n",
    "        embedding=embedding_model,\n",
    "        persist_directory=\"./chroma_db\"  # folder to save vector database\n",
    "    )\n",
    "\n",
    "    #  Persist the database to disk\n",
    "    vectordb.persist()\n",
    "else:\n",
    "    if os.path.exists(\"./chroma_db\"):\n",
    "    # Load existing database\n",
    "        vectordb = Chroma(\n",
    "            persist_directory=\"./chroma_db\",\n",
    "            embedding_function=embedding_model\n",
    "        )\n",
    "        print(\"Loaded existing vector database.\")\n",
    "\n",
    "\n",
    "print(\"Vector database created and persisted successfully!\")\n"
   ]
  },
  {
   "cell_type": "code",
   "execution_count": 16,
   "id": "2de23cb2",
   "metadata": {},
   "outputs": [],
   "source": [
    "# def print_results(results):\n",
    "#     for i, doc in enumerate(results, 1):\n",
    "#         print(f\"Result {i}:\")\n",
    "#         print(\"Product Name:\", doc.metadata[\"name\"])\n",
    "#         print(\"Link:\", doc.metadata[\"link\"])\n",
    "#         print(\"Price:\", doc.metadata[\"price\"])\n",
    "#         print(\"Description:\", doc.page_content[:300])  # preview first 300 chars\n",
    "#         print(\"----------------------------\")\n",
    "def print_results(results):\n",
    "    for i, (doc, score) in enumerate(results, 1):  # unpack tuple\n",
    "        print(f\"Result {i} (Confidence: {score:.2f}):\")\n",
    "        print(\"Product Name:\", doc.metadata[\"name\"])\n",
    "        print(\"Link:\", doc.metadata[\"link\"])\n",
    "        print(\"Price:\", doc.metadata[\"price\"])\n",
    "        print(\"Description:\", doc.page_content[:300])\n",
    "        print(\"----------------------------\")\n",
    "\n",
    "        "
   ]
  },
  {
   "cell_type": "code",
   "execution_count": 17,
   "id": "e351f449",
   "metadata": {},
   "outputs": [],
   "source": [
    "def query_vector_db(query, k=1):\n",
    "    \"\"\"\n",
    "    Query the vector database and return top k results.\n",
    "    \n",
    "    Args:\n",
    "        query (str): The search query.\n",
    "        k (int): Number of top results to return.\n",
    "    \n",
    "    Returns:\n",
    "        list: List of Document objects with metadata.\n",
    "    \"\"\"\n",
    "    results_with_score = vectordb.similarity_search_with_score(query, k=k)\n",
    "    threshold = 0.9\n",
    "    filtered_results = [(doc, score) for doc, score in results_with_score if score >= threshold]\n",
    "    if not filtered_results:\n",
    "        print(\"No results found above the threshold.\")\n",
    "        filtered_results = []  # Return empty list if no results meet the threshold\n",
    "        return \n",
    "\n",
    "    return filtered_results"
   ]
  },
  {
   "cell_type": "code",
   "execution_count": 18,
   "id": "e53eaa2e",
   "metadata": {},
   "outputs": [],
   "source": [
    "# #  Load the persisted Chroma database\n",
    "# embedding_model = OpenAIEmbeddings(model=\"text-embedding-3-large\")\n",
    "# vectordb = Chroma(\n",
    "#     persist_directory=\"./chroma_db\",\n",
    "#     embedding_function=embedding_model\n",
    "# )"
   ]
  },
  {
   "cell_type": "code",
   "execution_count": 47,
   "id": "cf20a108",
   "metadata": {},
   "outputs": [
    {
     "name": "stdout",
     "output_type": "stream",
     "text": [
      "Result 1 (Confidence: 1.09):\n",
      "Product Name: Gawhara Sunscreen Cream SPF +30\n",
      "Link: https://pharmakonegypt.org/product/gawhara-sunscreen-cream-spf-30-2/\n",
      "Price: EGP180\n",
      "Description: Gawhara sunscreen cream SPF +30\n",
      "Sunscreen cream\n",
      "----------------------------\n",
      "Result 2 (Confidence: 1.09):\n",
      "Product Name: Gawhara Sunscreen Cream SPF +30\n",
      "Link: https://pharmakonegypt.org/product/gawhara-sunscreen-cream-spf-30-2/\n",
      "Price: EGP180\n",
      "Description: Gawhara sunscreen cream SPF +30\n",
      "Sunscreen cream\n",
      "----------------------------\n"
     ]
    }
   ],
   "source": [
    "query =  \"sunscren for oily skin\"  # Define your query\n",
    "results = query_vector_db(query,k=2) \n",
    "\n",
    "#\n",
    "print_results(results)"
   ]
  },
  {
   "cell_type": "code",
   "execution_count": 48,
   "id": "c0ccb962",
   "metadata": {},
   "outputs": [],
   "source": [
    "from langchain_core.prompts import ChatPromptTemplate\n",
    "\n",
    "prompt_template = ChatPromptTemplate.from_template(\"\"\"\n",
    "You are a helpful medical advisor assistant.\n",
    "A customer has described their condition or symptoms.\n",
    "You must choose the most relevant products from the retrieved list below and if there is no relevants say no products available, display the product price and its link.\n",
    "\n",
    "Customer Query: {input}\n",
    "\n",
    "Retrieved Products:\n",
    "{context}\n",
    "\n",
    "Instructions:\n",
    "- Recommend the most relevant product.\n",
    "- Explain briefly why the product matches the query.\n",
    "- If no suitable product is found, clearly say \"No relevant product found.\"\n",
    "- Keep the answer short and professional.\n",
    "- Provide the product name, price, and link from provided context metadata.\n",
    "\"\"\")\n"
   ]
  },
  {
   "cell_type": "code",
   "execution_count": 50,
   "id": "10ca41e9",
   "metadata": {},
   "outputs": [
    {
     "name": "stdout",
     "output_type": "stream",
     "text": [
      "The most relevant product for oily skin is:\n",
      "\n",
      "**Product Name:** Gawhara Sunscreen Cream SPF +30  \n",
      "**Price:** EGP 180  \n",
      "**Link:** [Gawhara Sunscreen Cream SPF +30](https://pharmakonegypt.org/product/gawhara-sunscreen-cream-spf-30-2/)\n",
      "\n",
      "This sunscreen is suitable for oily skin as it provides sun protection while being lightweight, which helps prevent excess oiliness.\n"
     ]
    }
   ],
   "source": [
    "from langchain_openai import ChatOpenAI\n",
    "from langchain.chains.combine_documents import create_stuff_documents_chain\n",
    "from langchain.chains import create_retrieval_chain\n",
    "from langchain_core.prompts import ChatPromptTemplate\n",
    "def augmented_generation():\n",
    "    llm = ChatOpenAI(model=\"gpt-4o-mini\", temperature=0)\n",
    "\n",
    "    document_chain = create_stuff_documents_chain(llm, prompt_template)\n",
    "\n",
    "    # Wrap with retrieval\n",
    "    context = query_vector_db(query, k=3)\n",
    "\n",
    "    final_prompt = prompt_template.format(context=context, input=query)\n",
    "\n",
    "    response = llm.invoke(final_prompt)\n",
    "    print(response.content)\n",
    "    return response\n",
    "response = augmented_generation()"
   ]
  },
  {
   "cell_type": "code",
   "execution_count": null,
   "id": "24823849",
   "metadata": {},
   "outputs": [
    {
     "name": "stdout",
     "output_type": "stream",
     "text": [
      "**Recommended Product:** Gawhara sunscreen cream SPF +30  \n",
      "**Price:** Not specified  \n",
      "**Link:** Not provided  \n",
      "\n",
      "This product is suitable for oily skin as it is a sunscreen cream with SPF +30, which helps protect the skin from UV rays while being lightweight, making it ideal for oily skin types. \n",
      "\n",
      "If you need more specific details or a different product, please let me know!\n"
     ]
    }
   ],
   "source": [
    "\n"
   ]
  }
 ],
 "metadata": {
  "kernelspec": {
   "display_name": "Python 3",
   "language": "python",
   "name": "python3"
  },
  "language_info": {
   "codemirror_mode": {
    "name": "ipython",
    "version": 3
   },
   "file_extension": ".py",
   "mimetype": "text/x-python",
   "name": "python",
   "nbconvert_exporter": "python",
   "pygments_lexer": "ipython3",
   "version": "3.10.0"
  }
 },
 "nbformat": 4,
 "nbformat_minor": 5
}
